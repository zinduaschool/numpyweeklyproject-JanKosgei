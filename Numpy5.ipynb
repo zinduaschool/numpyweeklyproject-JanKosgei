{
 "cells": [
  {
   "cell_type": "markdown",
   "metadata": {},
   "source": [
    "# Numpy Exercise 5\n",
    "\n",
    "### All of the questions in this exercise are attributed to rougier/numpy-100"
   ]
  },
  {
   "cell_type": "code",
   "execution_count": null,
   "metadata": {},
   "outputs": [],
   "source": []
  },
  {
   "cell_type": "markdown",
   "metadata": {},
   "source": [
    "#### 61. Find the nearest value from a given value in an array (★★☆)"
   ]
  },
  {
   "cell_type": "code",
   "execution_count": 1,
   "metadata": {},
   "outputs": [
    {
     "name": "stdout",
     "output_type": "stream",
     "text": [
      "6.930569579662066\n"
     ]
    }
   ],
   "source": [
    "import numpy as np\n",
    "x = np.random.uniform(3, 7, 16)\n",
    "v = 7\n",
    "n = x.flat[np.abs(x - v).argmin()]\n",
    "print(n)"
   ]
  },
  {
   "cell_type": "markdown",
   "metadata": {},
   "source": [
    "#### 62. Considering two arrays with shape (1,3) and (3,1), how to compute their sum using an iterator? (★★☆)"
   ]
  },
  {
   "cell_type": "code",
   "execution_count": 2,
   "metadata": {},
   "outputs": [
    {
     "name": "stdout",
     "output_type": "stream",
     "text": [
      "[[0 1 2]\n",
      " [1 2 3]\n",
      " [2 3 4]]\n"
     ]
    }
   ],
   "source": [
    "A = np.arange(3).reshape(3,1)\n",
    "B = np.arange(3).reshape(1,3)\n",
    "it = np.nditer([A,B,None])\n",
    "for x,y,z in it: z[...] = x + y\n",
    "print(it.operands[2])"
   ]
  },
  {
   "cell_type": "markdown",
   "metadata": {},
   "source": [
    "#### 63. Create an array class that has a name attribute (★★☆)"
   ]
  },
  {
   "cell_type": "code",
   "execution_count": 3,
   "metadata": {},
   "outputs": [
    {
     "name": "stdout",
     "output_type": "stream",
     "text": [
      "range_10\n"
     ]
    }
   ],
   "source": [
    "class NamedArray(np.ndarray):\n",
    "    def __new__(cls, array, name=\"no name\"):\n",
    "        objct = np.asarray(array).view(cls)\n",
    "        objct.name = name\n",
    "        return objct\n",
    "    def __array_finalize__(self, objct):\n",
    "        if objct is None: return\n",
    "        self.info = getattr(objct, 'name', \"no name\")\n",
    "Z = NamedArray(np.arange(10), \"range_10\")\n",
    "print (Z.name)"
   ]
  },
  {
   "cell_type": "markdown",
   "metadata": {},
   "source": [
    "#### 64. Consider a given vector, how to add 1 to each element indexed by a second vector (be careful with repeated indices)? (★★★)"
   ]
  },
  {
   "cell_type": "code",
   "execution_count": 4,
   "metadata": {},
   "outputs": [
    {
     "name": "stdout",
     "output_type": "stream",
     "text": [
      "[ 3  2  3  3  7  9  9  8 12  9]\n"
     ]
    }
   ],
   "source": [
    "X = np.ones(10)\n",
    "Y = np.random.randint(0,len(Z),20)\n",
    "Z += np.bincount(Y, minlength=len(Z))\n",
    "print(Z)"
   ]
  },
  {
   "cell_type": "markdown",
   "metadata": {},
   "source": [
    "#### 65. How to accumulate elements of a vector (X) to an array (F) based on an index list (I)? (★★★)"
   ]
  },
  {
   "cell_type": "code",
   "execution_count": 5,
   "metadata": {},
   "outputs": [
    {
     "name": "stdout",
     "output_type": "stream",
     "text": [
      "[0. 7. 0. 6. 5. 0. 0. 0. 0. 3.]\n"
     ]
    }
   ],
   "source": [
    "X = [1,2,3,4,5,6]\n",
    "Y = [1,3,9,3,4,1]\n",
    "Z = np.bincount(Y,X)\n",
    "print(Z)"
   ]
  },
  {
   "cell_type": "markdown",
   "metadata": {},
   "source": [
    "#### 66. Considering a (w,h,3) image of (dtype=ubyte), compute the number of unique colors (★★☆)"
   ]
  },
  {
   "cell_type": "code",
   "execution_count": 7,
   "metadata": {},
   "outputs": [
    {
     "name": "stdout",
     "output_type": "stream",
     "text": [
      "[0 1]\n"
     ]
    }
   ],
   "source": [
    "w,h = 13,13\n",
    "X = np.random.randint(0,2,(h,w,3)).astype(np.ubyte)\n",
    "Y = X[...,0]*169*169 + X[...,1]*169 +X[...,2]\n",
    "n = len(np.unique(Y))\n",
    "print(np.unique(X))"
   ]
  },
  {
   "cell_type": "markdown",
   "metadata": {},
   "source": [
    "#### 67. Considering a four dimensions array, how to get sum over the last two axis at once? (★★★)"
   ]
  },
  {
   "cell_type": "code",
   "execution_count": 6,
   "metadata": {},
   "outputs": [
    {
     "name": "stdout",
     "output_type": "stream",
     "text": [
      "[[50 60 49 52]\n",
      " [43 73 58 56]\n",
      " [54 69 55 54]]\n",
      "[[50 60 49 52]\n",
      " [43 73 58 56]\n",
      " [54 69 55 54]]\n"
     ]
    }
   ],
   "source": [
    "M = np.random.randint(0,10,(3,4,3,4))\n",
    "# solution by passing a tuple of axes \n",
    "sum = M.sum(axis=(-2,-1))\n",
    "print(sum)\n",
    "# solution by flattening the last two dimensions into one\n",
    "sum = M.reshape(M.shape[:-2] + (-1,)).sum(axis=-1)\n",
    "print(sum)"
   ]
  },
  {
   "cell_type": "markdown",
   "metadata": {},
   "source": [
    "#### 68. Considering a one-dimensional vector D, how to compute means of subsets of D using a vector S of same size describing subset  indices? (★★★)"
   ]
  },
  {
   "cell_type": "code",
   "execution_count": 8,
   "metadata": {},
   "outputs": [
    {
     "name": "stdout",
     "output_type": "stream",
     "text": [
      "[0.59890957 0.56016859 0.51088324 0.50698438 0.51190401 0.49399893\n",
      " 0.52864096 0.50842855 0.5599687  0.44079789]\n"
     ]
    }
   ],
   "source": [
    "D = np.random.uniform(0,1,100)\n",
    "S = np.random.randint(0,10,100)\n",
    "D_sums = np.bincount(S, weights=D)\n",
    "D_counts = np.bincount(S)\n",
    "D_means = D_sums / D_counts\n",
    "print(D_means)\n"
   ]
  },
  {
   "cell_type": "markdown",
   "metadata": {},
   "source": [
    "#### 69. How to get the diagonal of a dot product? (★★★)"
   ]
  },
  {
   "cell_type": "code",
   "execution_count": 9,
   "metadata": {},
   "outputs": [
    {
     "data": {
      "text/plain": [
       "array([1.35309453, 1.15045445, 1.30023288, 0.56452587, 1.43296035])"
      ]
     },
     "execution_count": 9,
     "metadata": {},
     "output_type": "execute_result"
    }
   ],
   "source": [
    "M= np.random.uniform(0,1,(5,5))\n",
    "N = np.random.uniform(0,1,(5,5))\n",
    "\n",
    "np.einsum(\"ij,ji->i\", M, N)"
   ]
  },
  {
   "cell_type": "markdown",
   "metadata": {},
   "source": [
    "#### 70. Consider the vector [1, 2, 3, 4, 5], how to build a new vector with 3 consecutive zeros interleaved between each value? (★★★)"
   ]
  },
  {
   "cell_type": "code",
   "execution_count": 12,
   "metadata": {},
   "outputs": [
    {
     "name": "stdout",
     "output_type": "stream",
     "text": [
      "[1. 0. 0. 0. 2. 0. 0. 0. 3. 0. 0. 0. 4. 0. 0. 0. 5.]\n"
     ]
    }
   ],
   "source": [
    "Z = np.array([1,2,3,4,5])\n",
    "nz = 3\n",
    "Z0 = np.zeros(len(Z) + (len(Z)-1)*(nz))\n",
    "Z0[::nz+1] = Z\n",
    "print(Z0)"
   ]
  },
  {
   "cell_type": "markdown",
   "metadata": {},
   "source": [
    "#### 71. Consider an array of dimension (5,5,3), how to mulitply it by an array with dimensions (5,5)? (★★★)"
   ]
  },
  {
   "cell_type": "code",
   "execution_count": 13,
   "metadata": {},
   "outputs": [
    {
     "name": "stdout",
     "output_type": "stream",
     "text": [
      "[[[2. 2. 2.]\n",
      "  [2. 2. 2.]\n",
      "  [2. 2. 2.]\n",
      "  [2. 2. 2.]\n",
      "  [2. 2. 2.]]\n",
      "\n",
      " [[2. 2. 2.]\n",
      "  [2. 2. 2.]\n",
      "  [2. 2. 2.]\n",
      "  [2. 2. 2.]\n",
      "  [2. 2. 2.]]\n",
      "\n",
      " [[2. 2. 2.]\n",
      "  [2. 2. 2.]\n",
      "  [2. 2. 2.]\n",
      "  [2. 2. 2.]\n",
      "  [2. 2. 2.]]\n",
      "\n",
      " [[2. 2. 2.]\n",
      "  [2. 2. 2.]\n",
      "  [2. 2. 2.]\n",
      "  [2. 2. 2.]\n",
      "  [2. 2. 2.]]\n",
      "\n",
      " [[2. 2. 2.]\n",
      "  [2. 2. 2.]\n",
      "  [2. 2. 2.]\n",
      "  [2. 2. 2.]\n",
      "  [2. 2. 2.]]]\n"
     ]
    }
   ],
   "source": [
    "M = np.ones((5,5,3))\n",
    "N = 2*np.ones((5,5))\n",
    "print(M * N[:,:,None])"
   ]
  },
  {
   "cell_type": "markdown",
   "metadata": {},
   "source": [
    "#### 72. How to swap two rows of an array? (★★★)"
   ]
  },
  {
   "cell_type": "code",
   "execution_count": 14,
   "metadata": {},
   "outputs": [
    {
     "name": "stdout",
     "output_type": "stream",
     "text": [
      "[[ 5  6  7  8  9]\n",
      " [ 0  1  2  3  4]\n",
      " [10 11 12 13 14]\n",
      " [15 16 17 18 19]\n",
      " [20 21 22 23 24]]\n"
     ]
    }
   ],
   "source": [
    "M = np.arange(25).reshape(5,5)\n",
    "M[[0,1]] = M[[1,0]]\n",
    "print(M)"
   ]
  },
  {
   "cell_type": "markdown",
   "metadata": {},
   "source": [
    "#### 73. Consider a set of 10 triplets describing 10 triangles (with shared vertices), find the set of unique line segments composing all the  triangles (★★★)"
   ]
  },
  {
   "cell_type": "code",
   "execution_count": 15,
   "metadata": {},
   "outputs": [
    {
     "name": "stdout",
     "output_type": "stream",
     "text": [
      "[( 1, 25) ( 1, 71) ( 9, 40) ( 9, 76) (13, 14) (13, 26) (14, 26) (14, 45)\n",
      " (14, 54) (14, 64) (14, 94) (20, 36) (20, 67) (22, 32) (22, 39) (25, 50)\n",
      " (25, 57) (25, 71) (32, 39) (36, 67) (40, 76) (40, 94) (40, 97) (45, 94)\n",
      " (50, 57) (54, 64) (60, 60) (60, 63) (94, 97)]\n"
     ]
    }
   ],
   "source": [
    "faces = np.random.randint(0,100,(10,3))\n",
    "G = np.roll(faces.repeat(2,axis=1),-1,axis=1)\n",
    "G = G.reshape(len(G)*3,2)\n",
    "G = np.sort(G,axis=1)\n",
    "Q = G.view( dtype=[('p0',G.dtype),('p1',G.dtype)] )\n",
    "Q = np.unique(Q)\n",
    "print(Q)"
   ]
  },
  {
   "cell_type": "markdown",
   "metadata": {},
   "source": [
    "#### 74. Given a sorted array C that corresponds to a bincount, how to produce an array A such that np.bincount(A) == C? (★★★)"
   ]
  },
  {
   "cell_type": "code",
   "execution_count": 17,
   "metadata": {},
   "outputs": [
    {
     "name": "stdout",
     "output_type": "stream",
     "text": [
      "[1 1 2 3 4 4 6]\n"
     ]
    }
   ],
   "source": [
    "M = np.bincount([1,1,2,3,4,4,6])\n",
    "N = np.repeat(np.arange(len(M)), M)\n",
    "print(N)"
   ]
  },
  {
   "cell_type": "markdown",
   "metadata": {},
   "source": [
    "#### 75. How to compute averages using a sliding window over an array? (★★★)"
   ]
  },
  {
   "cell_type": "code",
   "execution_count": 18,
   "metadata": {},
   "outputs": [
    {
     "name": "stdout",
     "output_type": "stream",
     "text": [
      "[ 1.  2.  3.  4.  5.  6.  7.  8.  9. 10. 11. 12. 13. 14. 15. 16. 17. 18.]\n"
     ]
    }
   ],
   "source": [
    "def moving_average(a, n=3) :\n",
    "    ret = np.cumsum(a, dtype=float)\n",
    "    ret[n:] = ret[n:] - ret[:-n]\n",
    "    return ret[n - 1:] / n\n",
    "Z = np.arange(20)\n",
    "print(moving_average(Z, n=3))"
   ]
  },
  {
   "cell_type": "markdown",
   "metadata": {},
   "source": [
    "#### 76. Consider a one-dimensional array Z, build a two-dimensional array whose first row is (Z[0],Z[1],Z[2]) and each subsequent row is  shifted by 1 (last row should be (Z[-3],Z[-2],Z[-1]) (★★★)"
   ]
  },
  {
   "cell_type": "code",
   "execution_count": 19,
   "metadata": {},
   "outputs": [
    {
     "name": "stdout",
     "output_type": "stream",
     "text": [
      "[[0 1 2]\n",
      " [1 2 3]\n",
      " [2 3 4]\n",
      " [3 4 5]\n",
      " [4 5 6]\n",
      " [5 6 7]\n",
      " [6 7 8]\n",
      " [7 8 9]]\n"
     ]
    }
   ],
   "source": [
    "from numpy.lib import stride_tricks\n",
    "def rolling(a, window):\n",
    "    shape = (a.size - window + 1, window)\n",
    "    strides = (a.itemsize, a.itemsize)\n",
    "    return stride_tricks.as_strided(a, shape=shape, strides=strides)\n",
    "Z = rolling(np.arange(10), 3)\n",
    "print(Z)"
   ]
  },
  {
   "cell_type": "markdown",
   "metadata": {},
   "source": [
    "#### 77. How to negate a boolean, or to change the sign of a float inplace? (★★★)"
   ]
  },
  {
   "cell_type": "code",
   "execution_count": 20,
   "metadata": {},
   "outputs": [
    {
     "data": {
      "text/plain": [
       "array([ 0.02597755,  0.02096481,  0.66214773, -0.42966578,  0.03888321,\n",
       "        0.21227557, -0.41002973,  0.50129894, -0.70169451, -0.02046027,\n",
       "       -0.21052088,  0.80638633, -0.96147792, -0.78046382, -0.34271476,\n",
       "       -0.69851751,  0.05256926,  0.69383511, -0.26208247, -0.66988857,\n",
       "        0.27906135, -0.90659362,  0.94061684,  0.10600238, -0.83769731,\n",
       "        0.29956821, -0.33267765, -0.46258542,  0.56115683, -0.8645036 ,\n",
       "        0.99019622,  0.68595072,  0.78614012, -0.88413124,  0.11269953,\n",
       "       -0.16261525, -0.65518281,  0.09850113,  0.96342351, -0.5184997 ,\n",
       "       -0.16984871, -0.35334021,  0.60652775,  0.77067204, -0.85754117,\n",
       "        0.73712572,  0.60802933,  0.70149145,  0.12389732, -0.8133848 ,\n",
       "       -0.45996665,  0.8319369 , -0.19439344,  0.5128267 ,  0.92959998,\n",
       "        0.92178258,  0.87665527, -0.66532456,  0.6931626 ,  0.01839441,\n",
       "       -0.39557693,  0.46489109,  0.78642793, -0.1938167 ,  0.46098645,\n",
       "        0.33038915, -0.83047739, -0.83019416,  0.89140978,  0.59635385,\n",
       "        0.19861179, -0.06773506, -0.11361144,  0.30093699,  0.31965099,\n",
       "        0.11602879,  0.43001303,  0.06545421, -0.04971152,  0.30852636,\n",
       "       -0.9533816 , -0.00184389,  0.50334248, -0.67267459,  0.04886445,\n",
       "        0.66994473,  0.02261009, -0.95060052, -0.60442454,  0.66601391,\n",
       "        0.07426069,  0.32407483, -0.51155665, -0.94180519,  0.37056979,\n",
       "        0.0086805 ,  0.75861291,  0.68296865,  0.78732022,  0.23171861])"
      ]
     },
     "execution_count": 20,
     "metadata": {},
     "output_type": "execute_result"
    }
   ],
   "source": [
    "Z = np.random.randint(0,2,100)\n",
    "np.logical_not(Z, out=Z)\n",
    "Z = np.random.uniform(-1.0,1.0,100)\n",
    "np.negative(Z, out=Z)"
   ]
  },
  {
   "cell_type": "markdown",
   "metadata": {},
   "source": [
    "#### 78. Consider 2 sets of points P0,P1 describing lines (2d) and a point p, how to compute distance from p to each line i (P0[i],P1[i])? (★★★)"
   ]
  },
  {
   "cell_type": "code",
   "execution_count": 21,
   "metadata": {},
   "outputs": [
    {
     "name": "stdout",
     "output_type": "stream",
     "text": [
      "[ 8.47076765  9.27669035  3.13975837  9.65525716  2.49875329  7.02179348\n",
      " 16.21567999  3.087863   17.20968244  2.20324484]\n"
     ]
    }
   ],
   "source": [
    "def distance(P0, P1, p):\n",
    "    T = P1 - P0\n",
    "    L = (T**2).sum(axis=1)\n",
    "    U = -((P0[:,0]-p[...,0])*T[:,0] + (P0[:,1]-p[...,1])*T[:,1]) / L\n",
    "    U = U.reshape(len(U),1)\n",
    "    D = P0 + U*T - p\n",
    "    return np.sqrt((D**2).sum(axis=1))\n",
    "P0 = np.random.uniform(-10,10,(10,2))\n",
    "P1 = np.random.uniform(-10,10,(10,2))\n",
    "p  = np.random.uniform(-10,10,( 1,2))\n",
    "print(distance(P0, P1, p))"
   ]
  },
  {
   "cell_type": "markdown",
   "metadata": {},
   "source": [
    "#### 79. Consider 2 sets of points P0,P1 describing lines (2d) and a set of points P, how to compute distance from each point j (P[j]) to each line i (P0[i],P1[i])? (★★★)"
   ]
  },
  {
   "cell_type": "code",
   "execution_count": 22,
   "metadata": {},
   "outputs": [
    {
     "name": "stdout",
     "output_type": "stream",
     "text": [
      "[[ 4.76554938  1.13250348 11.04627698  7.09677248 13.05882997  9.61837844\n",
      "   0.30482104  5.0678459   1.18009906 10.69217489]\n",
      " [ 7.43870699 12.04979677  2.75464643  6.0236811   3.71781147  3.12754405\n",
      "   2.17024276  0.51299564  8.04944339  4.84637464]\n",
      " [ 1.56544822  2.71819002  7.84914346  3.35058693  9.62538173  5.63314402\n",
      "   0.55142646  4.66205654  2.22900152  8.09374303]\n",
      " [ 2.50465992  1.55295383  8.87853118  4.47729249 10.72066898  6.86002571\n",
      "   0.39933867  4.71097068  1.1404256   8.95120884]\n",
      " [ 8.34463585 15.69401132  4.77953147  9.06616294  3.63152587  8.4231956\n",
      "   3.70325234  5.50809166 15.42352903  2.79452923]\n",
      " [13.41954395  5.86432893  4.945975   12.81870783  8.15758093 11.12517924\n",
      "  12.5481005  17.53224479  3.85737775  2.35837741]\n",
      " [ 6.31468525  2.19327499 10.50901682  8.28690262 12.71514369 10.23685447\n",
      "   2.01079717  6.87145615  0.81467471  9.7782153 ]\n",
      " [ 3.85255282  8.94130485  3.20542494  2.761982    4.55235284  0.63054067\n",
      "   0.29547154  3.38205049  7.25713636  4.49572214]\n",
      " [12.88183686  6.26000815  7.1150661  12.99837049 10.18419273 12.15689529\n",
      "  10.22020657 15.37793461  1.81375756  4.74083082]\n",
      " [ 5.46689784  0.34614493  7.5156087   6.65271264  9.74063969  7.83170106\n",
      "   3.95528091  8.41849038  2.16362389  6.85398384]]\n"
     ]
    }
   ],
   "source": [
    "P0 = np.random.uniform(-10, 10, (10,2))\n",
    "P1 = np.random.uniform(-10,10,(10,2))\n",
    "p = np.random.uniform(-10, 10, (10,2))\n",
    "print(np.array([distance(P0,P1,p_i) for p_i in p]))"
   ]
  },
  {
   "cell_type": "markdown",
   "metadata": {},
   "source": [
    "#### 80. Consider an arbitrary array, write a function that extract a subpart with a fixed shape and centered on a given element (pad with a `fill` value when necessary) (★★★)"
   ]
  },
  {
   "cell_type": "code",
   "execution_count": 26,
   "metadata": {},
   "outputs": [
    {
     "ename": "IndexError",
     "evalue": "only integers, slices (`:`), ellipsis (`...`), numpy.newaxis (`None`) and integer or boolean arrays are valid indices",
     "output_type": "error",
     "traceback": [
      "\u001b[1;31m---------------------------------------------------------------------------\u001b[0m",
      "\u001b[1;31mIndexError\u001b[0m                                Traceback (most recent call last)",
      "Cell \u001b[1;32mIn[26], line 19\u001b[0m\n\u001b[0;32m     17\u001b[0m r \u001b[39m=\u001b[39m [\u001b[39mslice\u001b[39m(start,stop) \u001b[39mfor\u001b[39;00m start,stop \u001b[39min\u001b[39;00m \u001b[39mzip\u001b[39m(R_start,R_stop)]\n\u001b[0;32m     18\u001b[0m z \u001b[39m=\u001b[39m [\u001b[39mslice\u001b[39m(start,stop) \u001b[39mfor\u001b[39;00m start,stop \u001b[39min\u001b[39;00m \u001b[39mzip\u001b[39m(Z_start,Z_stop)]\n\u001b[1;32m---> 19\u001b[0m R[r] \u001b[39m=\u001b[39m Z[z]\n\u001b[0;32m     20\u001b[0m \u001b[39mprint\u001b[39m(Z)\n\u001b[0;32m     21\u001b[0m \u001b[39mprint\u001b[39m(R)\n",
      "\u001b[1;31mIndexError\u001b[0m: only integers, slices (`:`), ellipsis (`...`), numpy.newaxis (`None`) and integer or boolean arrays are valid indices"
     ]
    }
   ],
   "source": []
  },
  {
   "cell_type": "markdown",
   "metadata": {},
   "source": [
    "#### 81. Consider an array Z = [1,2,3,4,5,6,7,8,9,10,11,12,13,14], how to generate an array R = [[1,2,3,4], [2,3,4,5], [3,4,5,6], ..., [11,12,13,14]]? (★★★)"
   ]
  },
  {
   "cell_type": "code",
   "execution_count": 27,
   "metadata": {},
   "outputs": [
    {
     "name": "stdout",
     "output_type": "stream",
     "text": [
      "[[ 1  2  3  4]\n",
      " [ 2  3  4  5]\n",
      " [ 3  4  5  6]\n",
      " [ 4  5  6  7]\n",
      " [ 5  6  7  8]\n",
      " [ 6  7  8  9]\n",
      " [ 7  8  9 10]\n",
      " [ 8  9 10 11]\n",
      " [ 9 10 11 12]\n",
      " [10 11 12 13]\n",
      " [11 12 13 14]]\n"
     ]
    }
   ],
   "source": [
    "A = np.arange(1,15,dtype=np.uint32)\n",
    "B = stride_tricks.as_strided(A,(11,4),(4,4))\n",
    "print(B)"
   ]
  },
  {
   "cell_type": "markdown",
   "metadata": {},
   "source": [
    "#### 82. Compute a matrix rank (★★★)"
   ]
  },
  {
   "cell_type": "code",
   "execution_count": 28,
   "metadata": {},
   "outputs": [
    {
     "name": "stdout",
     "output_type": "stream",
     "text": [
      "10\n"
     ]
    }
   ],
   "source": [
    "Z = np.random.uniform(0,1,(10,10))\n",
    "U, S, V = np.linalg.svd(Z) \n",
    "rank = np.sum(S > 1e-10)\n",
    "print(rank)"
   ]
  },
  {
   "cell_type": "markdown",
   "metadata": {},
   "source": [
    "#### 83. How to find the most frequent value in an array?"
   ]
  },
  {
   "cell_type": "code",
   "execution_count": 29,
   "metadata": {},
   "outputs": [
    {
     "name": "stdout",
     "output_type": "stream",
     "text": [
      "6\n"
     ]
    }
   ],
   "source": [
    "A = np.random.randint(0,10,50)\n",
    "print(np.bincount(A).argmax())"
   ]
  },
  {
   "cell_type": "markdown",
   "metadata": {},
   "source": [
    "#### 84. Extract all the contiguous 3x3 blocks from a random 10x10 matrix (★★★)"
   ]
  },
  {
   "cell_type": "code",
   "execution_count": 30,
   "metadata": {},
   "outputs": [
    {
     "name": "stdout",
     "output_type": "stream",
     "text": [
      "[[[[1 0 3]\n",
      "   [2 0 3]\n",
      "   [1 2 1]]\n",
      "\n",
      "  [[0 3 4]\n",
      "   [0 3 3]\n",
      "   [2 1 3]]\n",
      "\n",
      "  [[3 4 1]\n",
      "   [3 3 3]\n",
      "   [1 3 4]]\n",
      "\n",
      "  [[4 1 1]\n",
      "   [3 3 2]\n",
      "   [3 4 4]]\n",
      "\n",
      "  [[1 1 1]\n",
      "   [3 2 4]\n",
      "   [4 4 4]]\n",
      "\n",
      "  [[1 1 2]\n",
      "   [2 4 4]\n",
      "   [4 4 1]]\n",
      "\n",
      "  [[1 2 4]\n",
      "   [4 4 0]\n",
      "   [4 1 4]]\n",
      "\n",
      "  [[2 4 4]\n",
      "   [4 0 1]\n",
      "   [1 4 1]]]\n",
      "\n",
      "\n",
      " [[[2 0 3]\n",
      "   [1 2 1]\n",
      "   [3 0 0]]\n",
      "\n",
      "  [[0 3 3]\n",
      "   [2 1 3]\n",
      "   [0 0 3]]\n",
      "\n",
      "  [[3 3 3]\n",
      "   [1 3 4]\n",
      "   [0 3 2]]\n",
      "\n",
      "  [[3 3 2]\n",
      "   [3 4 4]\n",
      "   [3 2 1]]\n",
      "\n",
      "  [[3 2 4]\n",
      "   [4 4 4]\n",
      "   [2 1 2]]\n",
      "\n",
      "  [[2 4 4]\n",
      "   [4 4 1]\n",
      "   [1 2 2]]\n",
      "\n",
      "  [[4 4 0]\n",
      "   [4 1 4]\n",
      "   [2 2 3]]\n",
      "\n",
      "  [[4 0 1]\n",
      "   [1 4 1]\n",
      "   [2 3 0]]]\n",
      "\n",
      "\n",
      " [[[1 2 1]\n",
      "   [3 0 0]\n",
      "   [3 1 3]]\n",
      "\n",
      "  [[2 1 3]\n",
      "   [0 0 3]\n",
      "   [1 3 4]]\n",
      "\n",
      "  [[1 3 4]\n",
      "   [0 3 2]\n",
      "   [3 4 3]]\n",
      "\n",
      "  [[3 4 4]\n",
      "   [3 2 1]\n",
      "   [4 3 4]]\n",
      "\n",
      "  [[4 4 4]\n",
      "   [2 1 2]\n",
      "   [3 4 3]]\n",
      "\n",
      "  [[4 4 1]\n",
      "   [1 2 2]\n",
      "   [4 3 4]]\n",
      "\n",
      "  [[4 1 4]\n",
      "   [2 2 3]\n",
      "   [3 4 4]]\n",
      "\n",
      "  [[1 4 1]\n",
      "   [2 3 0]\n",
      "   [4 4 0]]]\n",
      "\n",
      "\n",
      " [[[3 0 0]\n",
      "   [3 1 3]\n",
      "   [3 1 4]]\n",
      "\n",
      "  [[0 0 3]\n",
      "   [1 3 4]\n",
      "   [1 4 1]]\n",
      "\n",
      "  [[0 3 2]\n",
      "   [3 4 3]\n",
      "   [4 1 2]]\n",
      "\n",
      "  [[3 2 1]\n",
      "   [4 3 4]\n",
      "   [1 2 4]]\n",
      "\n",
      "  [[2 1 2]\n",
      "   [3 4 3]\n",
      "   [2 4 2]]\n",
      "\n",
      "  [[1 2 2]\n",
      "   [4 3 4]\n",
      "   [4 2 1]]\n",
      "\n",
      "  [[2 2 3]\n",
      "   [3 4 4]\n",
      "   [2 1 2]]\n",
      "\n",
      "  [[2 3 0]\n",
      "   [4 4 0]\n",
      "   [1 2 2]]]\n",
      "\n",
      "\n",
      " [[[3 1 3]\n",
      "   [3 1 4]\n",
      "   [0 1 1]]\n",
      "\n",
      "  [[1 3 4]\n",
      "   [1 4 1]\n",
      "   [1 1 4]]\n",
      "\n",
      "  [[3 4 3]\n",
      "   [4 1 2]\n",
      "   [1 4 3]]\n",
      "\n",
      "  [[4 3 4]\n",
      "   [1 2 4]\n",
      "   [4 3 3]]\n",
      "\n",
      "  [[3 4 3]\n",
      "   [2 4 2]\n",
      "   [3 3 2]]\n",
      "\n",
      "  [[4 3 4]\n",
      "   [4 2 1]\n",
      "   [3 2 1]]\n",
      "\n",
      "  [[3 4 4]\n",
      "   [2 1 2]\n",
      "   [2 1 4]]\n",
      "\n",
      "  [[4 4 0]\n",
      "   [1 2 2]\n",
      "   [1 4 3]]]\n",
      "\n",
      "\n",
      " [[[3 1 4]\n",
      "   [0 1 1]\n",
      "   [2 0 4]]\n",
      "\n",
      "  [[1 4 1]\n",
      "   [1 1 4]\n",
      "   [0 4 2]]\n",
      "\n",
      "  [[4 1 2]\n",
      "   [1 4 3]\n",
      "   [4 2 0]]\n",
      "\n",
      "  [[1 2 4]\n",
      "   [4 3 3]\n",
      "   [2 0 1]]\n",
      "\n",
      "  [[2 4 2]\n",
      "   [3 3 2]\n",
      "   [0 1 2]]\n",
      "\n",
      "  [[4 2 1]\n",
      "   [3 2 1]\n",
      "   [1 2 4]]\n",
      "\n",
      "  [[2 1 2]\n",
      "   [2 1 4]\n",
      "   [2 4 3]]\n",
      "\n",
      "  [[1 2 2]\n",
      "   [1 4 3]\n",
      "   [4 3 1]]]\n",
      "\n",
      "\n",
      " [[[0 1 1]\n",
      "   [2 0 4]\n",
      "   [4 3 1]]\n",
      "\n",
      "  [[1 1 4]\n",
      "   [0 4 2]\n",
      "   [3 1 4]]\n",
      "\n",
      "  [[1 4 3]\n",
      "   [4 2 0]\n",
      "   [1 4 0]]\n",
      "\n",
      "  [[4 3 3]\n",
      "   [2 0 1]\n",
      "   [4 0 2]]\n",
      "\n",
      "  [[3 3 2]\n",
      "   [0 1 2]\n",
      "   [0 2 3]]\n",
      "\n",
      "  [[3 2 1]\n",
      "   [1 2 4]\n",
      "   [2 3 2]]\n",
      "\n",
      "  [[2 1 4]\n",
      "   [2 4 3]\n",
      "   [3 2 3]]\n",
      "\n",
      "  [[1 4 3]\n",
      "   [4 3 1]\n",
      "   [2 3 2]]]\n",
      "\n",
      "\n",
      " [[[2 0 4]\n",
      "   [4 3 1]\n",
      "   [4 1 2]]\n",
      "\n",
      "  [[0 4 2]\n",
      "   [3 1 4]\n",
      "   [1 2 2]]\n",
      "\n",
      "  [[4 2 0]\n",
      "   [1 4 0]\n",
      "   [2 2 1]]\n",
      "\n",
      "  [[2 0 1]\n",
      "   [4 0 2]\n",
      "   [2 1 1]]\n",
      "\n",
      "  [[0 1 2]\n",
      "   [0 2 3]\n",
      "   [1 1 0]]\n",
      "\n",
      "  [[1 2 4]\n",
      "   [2 3 2]\n",
      "   [1 0 1]]\n",
      "\n",
      "  [[2 4 3]\n",
      "   [3 2 3]\n",
      "   [0 1 1]]\n",
      "\n",
      "  [[4 3 1]\n",
      "   [2 3 2]\n",
      "   [1 1 0]]]]\n"
     ]
    }
   ],
   "source": [
    "A = np.random.randint(0,5,(10,10))\n",
    "n = 3\n",
    "i = 1 + (A.shape[0]-3)\n",
    "j = 1 + (A.shape[1]-3)\n",
    "C = stride_tricks.as_strided(A, shape=(i, j, n, n), strides=A.strides + A.strides)\n",
    "print(C)"
   ]
  },
  {
   "cell_type": "markdown",
   "metadata": {},
   "source": [
    "#### 85. Create a 2D array subclass such that Z[i,j] == Z[j,i] (★★★)"
   ]
  },
  {
   "cell_type": "code",
   "execution_count": 31,
   "metadata": {},
   "outputs": [
    {
     "name": "stdout",
     "output_type": "stream",
     "text": [
      "[[ 9 18  3 13 13]\n",
      " [18  1 11 12  1]\n",
      " [ 3 11  6 42 11]\n",
      " [13 12 42  8  6]\n",
      " [13  1 11  6  5]]\n"
     ]
    }
   ],
   "source": [
    "class Symetric(np.ndarray):\n",
    "    def __setitem__(self, index, value):\n",
    "        i,j = index\n",
    "        super(Symetric, self).__setitem__((i,j), value)\n",
    "        super(Symetric, self).__setitem__((j,i), value)\n",
    "def symetric(Z):\n",
    "    return np.asarray(Z + Z.T - np.diag(Z.diagonal())).view(Symetric)\n",
    "S = symetric(np.random.randint(0,10,(5,5)))\n",
    "S[2,3] = 42\n",
    "print(S)"
   ]
  },
  {
   "cell_type": "markdown",
   "metadata": {},
   "source": [
    "#### 86. Consider a set of p matrices wich shape (n,n) and a set of p vectors with shape (n,1). How to compute the sum of of the p matrix products at once? (result has shape (n,1)) (★★★)"
   ]
  },
  {
   "cell_type": "code",
   "execution_count": null,
   "metadata": {},
   "outputs": [],
   "source": [
    "p, n = 10, 20\n",
    "M = np.ones((p,n,n))\n",
    "V = np.ones((p,n,1))\n",
    "S = np.tensordot(M, V, axes=[[0, 2], [0, 1]])\n",
    "print(S)\n"
   ]
  },
  {
   "cell_type": "markdown",
   "metadata": {},
   "source": [
    "#### 87. Consider a 16x16 array, how to get the block-sum (block size is 4x4)? (★★★)"
   ]
  },
  {
   "cell_type": "code",
   "execution_count": null,
   "metadata": {},
   "outputs": [],
   "source": []
  },
  {
   "cell_type": "markdown",
   "metadata": {},
   "source": [
    "#### 88. How to implement the Game of Life using numpy arrays? (★★★)"
   ]
  },
  {
   "cell_type": "code",
   "execution_count": null,
   "metadata": {},
   "outputs": [],
   "source": []
  },
  {
   "cell_type": "markdown",
   "metadata": {},
   "source": [
    "#### 89. How to get the n largest values of an array (★★★)"
   ]
  },
  {
   "cell_type": "code",
   "execution_count": null,
   "metadata": {},
   "outputs": [],
   "source": []
  },
  {
   "cell_type": "markdown",
   "metadata": {},
   "source": [
    "#### 90. Given an arbitrary number of vectors, build the cartesian product (every combinations of every item) (★★★)"
   ]
  },
  {
   "cell_type": "code",
   "execution_count": null,
   "metadata": {},
   "outputs": [],
   "source": []
  },
  {
   "cell_type": "markdown",
   "metadata": {},
   "source": [
    "#### 91. How to create a record array from a regular array? (★★★)"
   ]
  },
  {
   "cell_type": "code",
   "execution_count": null,
   "metadata": {},
   "outputs": [],
   "source": []
  },
  {
   "cell_type": "markdown",
   "metadata": {},
   "source": [
    "#### 92. Consider a large vector Z, compute Z to the power of 3 using 3 different methods (★★★)"
   ]
  },
  {
   "cell_type": "code",
   "execution_count": null,
   "metadata": {},
   "outputs": [],
   "source": []
  },
  {
   "cell_type": "markdown",
   "metadata": {},
   "source": [
    "#### 93. Consider two arrays A and B of shape (8,3) and (2,2). How to find rows of A that contain elements of each row of B regardless of the order of the elements in B? (★★★)"
   ]
  },
  {
   "cell_type": "code",
   "execution_count": null,
   "metadata": {},
   "outputs": [],
   "source": []
  },
  {
   "cell_type": "markdown",
   "metadata": {},
   "source": [
    "#### 94. Considering a 10x3 matrix, extract rows with unequal values (e.g. [2,2,3]) (★★★)"
   ]
  },
  {
   "cell_type": "code",
   "execution_count": null,
   "metadata": {},
   "outputs": [],
   "source": []
  },
  {
   "cell_type": "markdown",
   "metadata": {},
   "source": [
    "#### 95. Convert a vector of ints into a matrix binary representation (★★★)"
   ]
  },
  {
   "cell_type": "code",
   "execution_count": null,
   "metadata": {},
   "outputs": [],
   "source": []
  },
  {
   "cell_type": "markdown",
   "metadata": {},
   "source": [
    "#### 96. Given a two dimensional array, how to extract unique rows? (★★★)"
   ]
  },
  {
   "cell_type": "code",
   "execution_count": null,
   "metadata": {},
   "outputs": [],
   "source": []
  },
  {
   "cell_type": "markdown",
   "metadata": {},
   "source": [
    "#### 97. Considering 2 vectors A & B, write the einsum equivalent of inner, outer, sum, and mul function (★★★)"
   ]
  },
  {
   "cell_type": "code",
   "execution_count": null,
   "metadata": {},
   "outputs": [],
   "source": []
  },
  {
   "cell_type": "markdown",
   "metadata": {},
   "source": [
    "#### 98. Considering a path described by two vectors (X,Y), how to sample it using equidistant samples (★★★)?"
   ]
  },
  {
   "cell_type": "code",
   "execution_count": null,
   "metadata": {},
   "outputs": [],
   "source": []
  },
  {
   "cell_type": "markdown",
   "metadata": {},
   "source": [
    "#### 99. Given an integer n and a 2D array X, select from X the rows which can be interpreted as draws from a multinomial distribution with n degrees, i.e., the rows which only contain integers and which sum to n. (★★★)"
   ]
  },
  {
   "cell_type": "code",
   "execution_count": null,
   "metadata": {},
   "outputs": [],
   "source": []
  },
  {
   "cell_type": "markdown",
   "metadata": {},
   "source": [
    "#### 100. Compute bootstrapped 95% confidence intervals for the mean of a 1D array X (i.e., resample the elements of an array with replacement N times, compute the mean of each sample, and then compute percentiles over the means). (★★★)"
   ]
  },
  {
   "cell_type": "code",
   "execution_count": null,
   "metadata": {},
   "outputs": [],
   "source": []
  },
  {
   "cell_type": "code",
   "execution_count": null,
   "metadata": {},
   "outputs": [],
   "source": []
  }
 ],
 "metadata": {
  "kernelspec": {
   "display_name": "Python 3",
   "language": "python",
   "name": "python3"
  },
  "language_info": {
   "codemirror_mode": {
    "name": "ipython",
    "version": 3
   },
   "file_extension": ".py",
   "mimetype": "text/x-python",
   "name": "python",
   "nbconvert_exporter": "python",
   "pygments_lexer": "ipython3",
   "version": "3.11.1"
  }
 },
 "nbformat": 4,
 "nbformat_minor": 4
}
